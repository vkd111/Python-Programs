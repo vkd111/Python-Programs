{
 "cells": [
  {
   "cell_type": "code",
   "execution_count": 4,
   "metadata": {},
   "outputs": [
    {
     "name": "stdout",
     "output_type": "stream",
     "text": [
      "21\n"
     ]
    }
   ],
   "source": [
    "def list_sum(num_list):\n",
    "    if(len(num_list)==1):\n",
    "        return num_list[0]\n",
    "    else:\n",
    "        return num_list[0]+list_sum(num_list[1:])\n",
    "num_list=[1,2,3,4,5,6]\n",
    "print(list_sum(num_list))"
   ]
  },
  {
   "cell_type": "code",
   "execution_count": 12,
   "metadata": {},
   "outputs": [
    {
     "name": "stdout",
     "output_type": "stream",
     "text": [
      "144\n"
     ]
    }
   ],
   "source": [
    "def to_str(n,base):\n",
    "    convert_string=\"0123456789ABCDEF\"\n",
    "    if(n<base):\n",
    "        return (convert_string[n])\n",
    "    else:\n",
    "        return to_str(n//base,base) + (convert_string[n%base])\n",
    "n=100\n",
    "base=8\n",
    "print(to_str(n,base))"
   ]
  },
  {
   "cell_type": "code",
   "execution_count": 16,
   "metadata": {},
   "outputs": [
    {
     "name": "stdout",
     "output_type": "stream",
     "text": [
      "False\n",
      "True\n"
     ]
    }
   ],
   "source": [
    "def ispalindrom(word):\n",
    "    return word==word[::-1]\n",
    "print(ispalindrom(\"hello\"))\n",
    "print(ispalindrom(\"kayak\"))"
   ]
  },
  {
   "cell_type": "code",
   "execution_count": 19,
   "metadata": {},
   "outputs": [
    {
     "name": "stdout",
     "output_type": "stream",
     "text": [
      "False\n"
     ]
    }
   ],
   "source": [
    "#palindrom using recursion\n",
    "def is_palindrom(string):\n",
    "    if(len(string)<1):\n",
    "        return True\n",
    "    elif(string[0]==string[-1]):\n",
    "        return is_palindrom(string[1:-1])\n",
    "    else:\n",
    "        return False\n",
    "string=\"Hello\"\n",
    "print(is_palindrom(string))"
   ]
  },
  {
   "cell_type": "code",
   "execution_count": 23,
   "metadata": {},
   "outputs": [
    {
     "name": "stdout",
     "output_type": "stream",
     "text": [
      "False\n"
     ]
    }
   ],
   "source": [
    "def sequential_search(a_list,item):\n",
    "    pos=0\n",
    "    found=False\n",
    "    while(pos<len(a_list) and not found):\n",
    "        if(a_list[pos]==item):\n",
    "            found=True\n",
    "        else:\n",
    "            pos+=1\n",
    "    return found\n",
    "a_list=[1,2,3,4]\n",
    "item=6\n",
    "print(sequential_search(a_list,item))\n"
   ]
  },
  {
   "cell_type": "code",
   "execution_count": 27,
   "metadata": {},
   "outputs": [
    {
     "name": "stdout",
     "output_type": "stream",
     "text": [
      "True\n"
     ]
    }
   ],
   "source": [
    "def binary_search(a_list,item):\n",
    "    first=0\n",
    "    last=len(a_list)-1\n",
    "    found=False\n",
    "    while(first<=last and not found):\n",
    "        midpoint=(first+last)//2\n",
    "        if(a_list[midpoint]==item):\n",
    "            found=True\n",
    "        elif(item<a_list[midpoint]):\n",
    "            last=midpoint-1\n",
    "        else:\n",
    "            first=midpoint+1\n",
    "    return found\n",
    "a_list=[1,3,6,8,9,11,11,23,48,50]\n",
    "item=3\n",
    "print(binary_search(a_list,item))"
   ]
  },
  {
   "cell_type": "code",
   "execution_count": 37,
   "metadata": {},
   "outputs": [
    {
     "name": "stdout",
     "output_type": "stream",
     "text": [
      "[0, 1, 2, 6, 8, 11, 22, 99, 99, 111]\n"
     ]
    }
   ],
   "source": [
    "#bubble sort\n",
    "def bubble_sort(a_list):\n",
    "    for pass_num in range(len(a_list)-1,0,-1):\n",
    "        for i in range(pass_num):\n",
    "            if(a_list[i]>a_list[i+1]):\n",
    "                temp=a_list[i]\n",
    "                a_list[i]=a_list[i+1]\n",
    "                a_list[i+1]=temp\n",
    "a_list=[1,6,8,2,99,22,99,0,11,111]\n",
    "bubble_sort(a_list)\n",
    "print(a_list)"
   ]
  },
  {
   "cell_type": "code",
   "execution_count": 39,
   "metadata": {},
   "outputs": [
    {
     "name": "stdout",
     "output_type": "stream",
     "text": [
      "[2, 4, 7, 55, 99]\n"
     ]
    }
   ],
   "source": [
    "#selection sort\n",
    "def selection_sort(a_list):\n",
    "    for i in range(len(a_list)-1,0,-1):\n",
    "        pos_of_max=0\n",
    "        for location in range(1,i+1):\n",
    "            if(a_list[location]>a_list[pos_of_max]):\n",
    "                pos_of_max=location\n",
    "                temp=a_list[i]\n",
    "                a_list[i]=a_list[pos_of_max]\n",
    "                a_list[pos_of_max]=temp\n",
    "a_list=[2,7,4,99,55]\n",
    "selection_sort(a_list)\n",
    "print(a_list)"
   ]
  },
  {
   "cell_type": "code",
   "execution_count": 41,
   "metadata": {},
   "outputs": [
    {
     "name": "stdout",
     "output_type": "stream",
     "text": [
      "[0, 1, 2, 5, 6, 9]\n"
     ]
    }
   ],
   "source": [
    "def insertion_sort(a_list):\n",
    "    for index in range(1,len(a_list)):\n",
    "        current_value=a_list[index]\n",
    "        position=index\n",
    "        while(position>0 and a_list[position-1]>current_value):\n",
    "            a_list[position]=a_list[position-1]\n",
    "            position=position-1\n",
    "        a_list[position]=current_value\n",
    "a_list=[1,5,9,2,6,0]\n",
    "insertion_sort(a_list)\n",
    "print(a_list)"
   ]
  }
 ],
 "metadata": {
  "kernelspec": {
   "display_name": "Python 3",
   "language": "python",
   "name": "python3"
  },
  "language_info": {
   "codemirror_mode": {
    "name": "ipython",
    "version": 3
   },
   "file_extension": ".py",
   "mimetype": "text/x-python",
   "name": "python",
   "nbconvert_exporter": "python",
   "pygments_lexer": "ipython3",
   "version": "3.6.4"
  }
 },
 "nbformat": 4,
 "nbformat_minor": 2
}
