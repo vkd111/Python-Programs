{
 "cells": [
  {
   "cell_type": "code",
   "execution_count": 1,
   "metadata": {},
   "outputs": [
    {
     "name": "stdout",
     "output_type": "stream",
     "text": [
      "[1, 2, 'Fuzz', 4, 'Buzz', 'Fuzz', 7, 8, 'Fuzz', 'Buzz', 11, 'Fuzz', 13, 14, 'FuzzBuzz', 16, 17, 'Fuzz', 19, 'Buzz']\n"
     ]
    }
   ],
   "source": [
    "#fizzbuzz problem\n",
    "def fizzbuzz(n):\n",
    "    result=[]\n",
    "    for i in range(1,n+1):\n",
    "        add=''\n",
    "        if (i%3==0):\n",
    "            add+='Fuzz'\n",
    "        if (i%5==0):\n",
    "            add+='Buzz'\n",
    "        if (add==''):\n",
    "            result.append(i)\n",
    "        else:\n",
    "            result.append(add)\n",
    "    return result\n",
    "print(fizzbuzz(20))"
   ]
  },
  {
   "cell_type": "code",
   "execution_count": 2,
   "metadata": {
    "tags": [
     "Two",
     "Sum",
     "Problem"
    ]
   },
   "outputs": [
    {
     "name": "stdout",
     "output_type": "stream",
     "text": [
      "False\n",
      "True\n"
     ]
    }
   ],
   "source": [
    "#Two Sum Problem\n",
    "#An array and some number S are given. Determine if any two numbers within the array sum to S.\n",
    "#Order O(n) but uses extra space\n",
    "def twoSum(arr,S):\n",
    "    hashTable={}\n",
    "    for i in range(0,len(arr)):\n",
    "        sumMinusElement=S-arr[i]\n",
    "        if (sumMinusElement in hashTable):\n",
    "            return True\n",
    "        hashTable[arr[i]]=True\n",
    "    return False\n",
    "arr=[1,2,4,5,8,9]\n",
    "S=2\n",
    "print(twoSum(arr,S))\n",
    "arr=[1,2,4,5,8,9]\n",
    "S=3\n",
    "print(twoSum(arr,S))"
   ]
  },
  {
   "cell_type": "code",
   "execution_count": 3,
   "metadata": {
    "tags": [
     "sum",
     "of",
     "nested",
     "array"
    ]
   },
   "outputs": [
    {
     "name": "stdout",
     "output_type": "stream",
     "text": [
      "45\n"
     ]
    }
   ],
   "source": [
    "#Sum of nested array\n",
    "def sumNested(arr):\n",
    "    result=0\n",
    "    for i in range(0,len(arr)):\n",
    "        if (type(arr[i])!=int):\n",
    "            result+=sumNested(arr[i])\n",
    "        else:\n",
    "            result+=arr[i]\n",
    "    return result\n",
    "arr=[1,2,3,[4,5],6,[7,8,9]]\n",
    "print(sumNested(arr))"
   ]
  },
  {
   "cell_type": "code",
   "execution_count": 4,
   "metadata": {},
   "outputs": [
    {
     "name": "stdout",
     "output_type": "stream",
     "text": [
      "27.5\n"
     ]
    }
   ],
   "source": [
    "#Angle between the hour and minute hands in a clock\n",
    "def clockAngle(hour,mins):\n",
    "    h=0\n",
    "    h=0.5*(60*h+mins)\n",
    "    m=6*mins\n",
    "    angle=abs(h-m)\n",
    "    if (angle>180):\n",
    "        return 360-angle\n",
    "    else:\n",
    "        return angle\n",
    "hour=1\n",
    "mins=5\n",
    "print(clockAngle(hour,mins))"
   ]
  },
  {
   "cell_type": "code",
   "execution_count": 5,
   "metadata": {},
   "outputs": [
    {
     "name": "stdout",
     "output_type": "stream",
     "text": [
      "True\n"
     ]
    }
   ],
   "source": [
    "#prime number check\n",
    "import math\n",
    "def isprime(n):\n",
    "    if(n<2):\n",
    "        return False\n",
    "    if(n==3):\n",
    "        return True\n",
    "    for i in range(2,math.ceil(math.sqrt(n))):\n",
    "        if(n%i==0):\n",
    "            return False\n",
    "        else:\n",
    "            return True\n",
    "n=3\n",
    "print(isprime(n))\n",
    "    "
   ]
  },
  {
   "cell_type": "code",
   "execution_count": 6,
   "metadata": {},
   "outputs": [
    {
     "name": "stdout",
     "output_type": "stream",
     "text": [
      "o dxt\n"
     ]
    }
   ],
   "source": [
    "#Remove characters of a string which are also in an array\n",
    "def removeChars(arr,string):\n",
    "    hashTable={}\n",
    "    for c in arr:\n",
    "        hashTable[c]=True\n",
    "    result=''\n",
    "    for c in string:\n",
    "        if(c not in hashTable):\n",
    "            result+=c\n",
    "    return result\n",
    "arr=['v','i','m','l','e','s','h']\n",
    "string='hello dixit'\n",
    "print(removeChars(arr,string))"
   ]
  },
  {
   "cell_type": "code",
   "execution_count": 7,
   "metadata": {},
   "outputs": [
    {
     "name": "stdout",
     "output_type": "stream",
     "text": [
      "v\n"
     ]
    }
   ],
   "source": [
    "def firstNonrepChar(string):\n",
    "    hashTable={}\n",
    "    for c in string:\n",
    "        if(c not in hashTable):\n",
    "            hashTable[c]=1\n",
    "        else:\n",
    "            hashTable[c]+=1\n",
    "    for c in string:\n",
    "        if(hashTable[c]==1):\n",
    "            return c       \n",
    "string='vimlesh kumar dixit'\n",
    "print(firstNonrepChar(string))"
   ]
  },
  {
   "cell_type": "code",
   "execution_count": 8,
   "metadata": {},
   "outputs": [
    {
     "name": "stdout",
     "output_type": "stream",
     "text": [
      "4\n"
     ]
    }
   ],
   "source": [
    "#continuous atleast three vowels in a word of a string\n",
    "import re\n",
    "def threeVowels(string):\n",
    "    arr=string.split()\n",
    "    count=0\n",
    "    for word in arr:\n",
    "        if(re.search(r'[aeiou]{3,}',word)):\n",
    "            count +=1\n",
    "    return count\n",
    "string='iau oia vimlesh kumar dixit aio eua'\n",
    "print(threeVowels(string))"
   ]
  },
  {
   "cell_type": "code",
   "execution_count": 9,
   "metadata": {},
   "outputs": [
    {
     "name": "stdout",
     "output_type": "stream",
     "text": [
      "aabcd\n"
     ]
    }
   ],
   "source": [
    "def removePairs(string):\n",
    "    result=''\n",
    "    i=0\n",
    "    while(i<len(string)):\n",
    "        if(i==len(string)-1):\n",
    "            result +=string[i]\n",
    "        elif(string[i]!=string[i+1]):\n",
    "            result+=string[i]\n",
    "        else:\n",
    "            i+=1\n",
    "        i+=1\n",
    "    return result\n",
    "string='akkabcdee'\n",
    "print(removePairs(string))"
   ]
  },
  {
   "cell_type": "code",
   "execution_count": 10,
   "metadata": {},
   "outputs": [
    {
     "name": "stdout",
     "output_type": "stream",
     "text": [
      "2\n"
     ]
    }
   ],
   "source": [
    "#Find majority element in an array\n",
    "import math\n",
    "def majorityElement(arr):\n",
    "    candidate=None\n",
    "    count=0\n",
    "    for i in range(0,len(arr)):\n",
    "        if(candidate is None or count==0):\n",
    "            candidate=arr[i]\n",
    "            count=1\n",
    "        elif(arr[i]==candidate):\n",
    "            count+=1\n",
    "        else:\n",
    "            count-=1\n",
    "    count=0\n",
    "    for el in arr:\n",
    "        if(el==candidate):\n",
    "            count+=1\n",
    "        if(count>math.floor(len(arr)/2)):\n",
    "            return candidate       \n",
    "arr=[1,1,1,2,2,2,2,2,3]\n",
    "print(majorityElement(arr))"
   ]
  },
  {
   "cell_type": "code",
   "execution_count": 11,
   "metadata": {},
   "outputs": [
    {
     "name": "stdout",
     "output_type": "stream",
     "text": [
      "{'mean': 2.6666666666666665, 'median': 3, 'mode': 1}\n"
     ]
    }
   ],
   "source": [
    "#mean, median and mode of an array\n",
    "def meanMedianMode(arr):\n",
    "    mean=sum(arr)/float(len(arr))\n",
    "    arr=sorted(arr)\n",
    "    median=arr[int(len(arr)/2)]\n",
    "    mode=None\n",
    "    hashTable={}\n",
    "    for i in arr:\n",
    "        if(i in hashTable):\n",
    "            hashTable[i]+=1\n",
    "        else:\n",
    "            hashTable[i]=1\n",
    "        if(mode is None or hashTable[i]>mode):\n",
    "            mode=i\n",
    "    return {'mean':mean, 'median':median, 'mode':mode}\n",
    "arr=[1,2,3,4,5,1]\n",
    "\n",
    "print(meanMedianMode(arr))"
   ]
  },
  {
   "cell_type": "code",
   "execution_count": 12,
   "metadata": {},
   "outputs": [
    {
     "name": "stdout",
     "output_type": "stream",
     "text": [
      "winmetj\n"
     ]
    }
   ],
   "source": [
    "def encodeConsonants(string):\n",
    "    result=''\n",
    "    vowels=['a','e','i','o','u']\n",
    "    for i in string:\n",
    "        if(i=='z'):\n",
    "            result+='b'\n",
    "            break\n",
    "        elif(i not in vowels and i !=''):\n",
    "            newCode=ord(i)+1\n",
    "            if(chr(newCode) in vowels):\n",
    "                newCode+=1\n",
    "            result+=chr(newCode)\n",
    "        else:\n",
    "            result+=i\n",
    "    return result\n",
    "string='vimlesh'\n",
    "print(encodeConsonants(string))"
   ]
  },
  {
   "cell_type": "code",
   "execution_count": null,
   "metadata": {},
   "outputs": [],
   "source": []
  }
 ],
 "metadata": {
  "kernelspec": {
   "display_name": "Python 3",
   "language": "python",
   "name": "python3"
  },
  "language_info": {
   "codemirror_mode": {
    "name": "ipython",
    "version": 3
   },
   "file_extension": ".py",
   "mimetype": "text/x-python",
   "name": "python",
   "nbconvert_exporter": "python",
   "pygments_lexer": "ipython3",
   "version": "3.6.4"
  }
 },
 "nbformat": 4,
 "nbformat_minor": 2
}
