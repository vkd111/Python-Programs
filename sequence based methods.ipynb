{
 "cells": [
  {
   "cell_type": "code",
   "execution_count": 5,
   "metadata": {},
   "outputs": [
    {
     "data": {
      "text/plain": [
       "'who are yo'"
      ]
     },
     "execution_count": 5,
     "metadata": {},
     "output_type": "execute_result"
    }
   ],
   "source": [
    "#the slicing operator\n",
    "\"\"\"\n",
    "seq[start]\n",
    "seq[start:end]\n",
    "seq[start:end:step]\n",
    "\"\"\"\n",
    "word=\"who are you?\"\n",
    "word[-1]\n",
    "word[0:1]\n",
    "word[0:10:3]\n",
    "word[-2]\n",
    "word[:-2]"
   ]
  },
  {
   "cell_type": "code",
   "execution_count": 14,
   "metadata": {},
   "outputs": [
    {
     "data": {
      "text/plain": [
       "'readyamI'"
      ]
     },
     "execution_count": 14,
     "metadata": {},
     "output_type": "execute_result"
    }
   ],
   "source": [
    "#join method\n",
    "word=[\"I\",\"am\",\"ready\"]\n",
    "a=''.join(word)\n",
    "a#Iamready\n",
    "b='<>'.join(word)\n",
    "b\n",
    "''.join(reversed(word))"
   ]
  },
  {
   "cell_type": "code",
   "execution_count": 17,
   "metadata": {},
   "outputs": [
    {
     "data": {
      "text/plain": [
       "'sachin tendulkar****'"
      ]
     },
     "execution_count": 17,
     "metadata": {},
     "output_type": "execute_result"
    }
   ],
   "source": [
    "name=\"sachin tendulkar\"\n",
    "name.rjust(50,'-')\n",
    "name.ljust(20,'*')"
   ]
  },
  {
   "cell_type": "code",
   "execution_count": 18,
   "metadata": {},
   "outputs": [
    {
     "data": {
      "text/plain": [
       "'the 999 is ram'"
      ]
     },
     "execution_count": 18,
     "metadata": {},
     "output_type": "execute_result"
    }
   ],
   "source": [
    "#string unpacking\n",
    "name=\"ram\"\n",
    "number=999\n",
    "\"the {number} is {name}\".format(**locals())"
   ]
  },
  {
   "cell_type": "code",
   "execution_count": 22,
   "metadata": {},
   "outputs": [
    {
     "data": {
      "text/plain": [
       "['sachine', 'tendulkar']"
      ]
     },
     "execution_count": 22,
     "metadata": {},
     "output_type": "execute_result"
    }
   ],
   "source": [
    "name=\"sachine\\ntendulkar\"\n",
    "name.splitlines()"
   ]
  },
  {
   "cell_type": "code",
   "execution_count": 27,
   "metadata": {},
   "outputs": [
    {
     "data": {
      "text/plain": [
       "'SACHIN tENDULKAR'"
      ]
     },
     "execution_count": 27,
     "metadata": {},
     "output_type": "execute_result"
    }
   ],
   "source": [
    "#methods for changing string\n",
    "name=\"sachin Tendulkar\"\n",
    "name.upper()#'SACHIN TENDULKAR'\n",
    "name.lower()#'sachin tendulkar'\n",
    "name.capitalize()#'Sachin tendulkar'\n",
    "name.swapcase()#'SACHIN tENDULKAR'"
   ]
  },
  {
   "cell_type": "code",
   "execution_count": 33,
   "metadata": {},
   "outputs": [
    {
     "data": {
      "text/plain": [
       "-1"
      ]
     },
     "execution_count": 33,
     "metadata": {},
     "output_type": "execute_result"
    }
   ],
   "source": [
    "#methods for searching\n",
    "#1:index(x):Returns the index position of substring x, or raises a ValueError exception on failure\n",
    "#2:find(x): Returns the index position of substring x, or -1 on failure\n",
    "name=\"sachin tendulkar\"\n",
    "name.index('k')#13\n",
    "name.find('k')#13\n",
    "#name.index('z')#ValueError\n",
    "name.find('z')#-1"
   ]
  },
  {
   "cell_type": "code",
   "execution_count": 40,
   "metadata": {},
   "outputs": [
    {
     "data": {
      "text/plain": [
       "[1, 2, 3]"
      ]
     },
     "execution_count": 40,
     "metadata": {},
     "output_type": "execute_result"
    }
   ],
   "source": [
    "#tuple unpacking\n",
    "*x,y=(1,2,3,4)\n",
    "x\n"
   ]
  },
  {
   "cell_type": "code",
   "execution_count": 51,
   "metadata": {},
   "outputs": [
    {
     "data": {
      "text/plain": [
       "'hari'"
      ]
     },
     "execution_count": 51,
     "metadata": {},
     "output_type": "execute_result"
    }
   ],
   "source": [
    "#list adding methods\n",
    "a=['ran','shyam','mahesh']\n",
    "a.append('hari')\n",
    "a #['ran', 'shyam', 'mahesh', 'hari']\n",
    "a.extend('hari')\n",
    "a #['ran', 'shyam', 'mahesh', 'hari', 'h', 'a', 'r', 'i']\n",
    "a[len(a):]=['hari']\n",
    "a #['ran', 'shyam', 'mahesh', 'hari', 'h', 'a', 'r', 'i', 'hari']\n",
    "a.insert(2,'rahim')\n",
    "a #['ran', 'shyam', 'rahim', 'mahesh', 'hari', 'h', 'a', 'r', 'i', 'hari']\n",
    "a.remove('ran')\n",
    "a #['shyam', 'rahim', 'mahesh', 'hari', 'h', 'a', 'r', 'i', 'hari']\n",
    "a.pop() #'hari'"
   ]
  },
  {
   "cell_type": "code",
   "execution_count": 57,
   "metadata": {},
   "outputs": [
    {
     "data": {
      "text/plain": [
       "[33, 9, 5, 4, 2, 2, 2, 1, 0]"
      ]
     },
     "execution_count": 57,
     "metadata": {},
     "output_type": "execute_result"
    }
   ],
   "source": [
    "#searching and sorting methods for list\n",
    "a=[1,2,4,5,2,0,2,9,33]\n",
    "a.index(2)#1\n",
    "a.count(2)#3\n",
    "a.sort()\n",
    "a#[0, 1, 2, 2, 2, 4, 5, 9, 33]\n",
    "a.reverse()\n",
    "a#[33, 9, 5, 4, 2, 2, 2, 1, 0]"
   ]
  },
  {
   "cell_type": "code",
   "execution_count": 58,
   "metadata": {},
   "outputs": [
    {
     "data": {
      "text/plain": [
       "[1, 4, 9, 16, 25]"
      ]
     },
     "execution_count": 58,
     "metadata": {},
     "output_type": "execute_result"
    }
   ],
   "source": [
    "#List comprehension\n",
    "\"\"\"\n",
    "[item for item in iterable]\n",
    "[expression for item in iterable]\n",
    "[expression for item in iterable if condition]\n",
    "\"\"\"\n",
    "a=[1,2,3,4,5]\n",
    "b=[x*x for x in a]\n",
    "b#[1, 4, 9, 16, 25]\n"
   ]
  }
 ],
 "metadata": {
  "kernelspec": {
   "display_name": "Python 3",
   "language": "python",
   "name": "python3"
  },
  "language_info": {
   "codemirror_mode": {
    "name": "ipython",
    "version": 3
   },
   "file_extension": ".py",
   "mimetype": "text/x-python",
   "name": "python",
   "nbconvert_exporter": "python",
   "pygments_lexer": "ipython3",
   "version": "3.6.4"
  }
 },
 "nbformat": 4,
 "nbformat_minor": 2
}
